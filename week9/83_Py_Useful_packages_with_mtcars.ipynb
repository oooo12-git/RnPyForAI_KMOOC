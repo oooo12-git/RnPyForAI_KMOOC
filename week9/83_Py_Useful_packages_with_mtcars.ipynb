{
 "cells": [
  {
   "cell_type": "markdown",
   "id": "9e3583ce",
   "metadata": {},
   "source": [
    "# R 과 Python 8주차 - 제2강"
   ]
  },
  {
   "cell_type": "markdown",
   "id": "e29ccbd0",
   "metadata": {},
   "source": [
    "## Python 유용한 패키지들"
   ]
  },
  {
   "cell_type": "markdown",
   "id": "d199e60c",
   "metadata": {},
   "source": [
    "다음 셀은, 이후의 셀에서, 각 셀에서 여러 개의 출력를\n",
    "표시하도록 하는 옵션 설정 변경임"
   ]
  },
  {
   "cell_type": "code",
   "execution_count": 1,
   "id": "46381c18",
   "metadata": {},
   "outputs": [],
   "source": [
    "from IPython.core.interactiveshell import InteractiveShell\n",
    "InteractiveShell.ast_node_interactivity=\"all\""
   ]
  },
  {
   "cell_type": "markdown",
   "id": "9a3e6586",
   "metadata": {},
   "source": [
    "### numpy / pandas"
   ]
  },
  {
   "cell_type": "code",
   "execution_count": null,
   "id": "f1fb5b94",
   "metadata": {},
   "outputs": [],
   "source": []
  },
  {
   "cell_type": "code",
   "execution_count": 2,
   "id": "880688f1",
   "metadata": {},
   "outputs": [],
   "source": [
    "import numpy as np\n",
    "import pandas as pd"
   ]
  },
  {
   "cell_type": "markdown",
   "id": "43be1193",
   "metadata": {},
   "source": [
    "statsmodels 패키지: 다양한 통계모형들을 적용할 때 유용한 패키지"
   ]
  },
  {
   "cell_type": "code",
   "execution_count": 3,
   "id": "5382c8cf",
   "metadata": {},
   "outputs": [],
   "source": [
    "import statsmodels.api as sm\n",
    "import statsmodels.formula.api as smf"
   ]
  },
  {
   "cell_type": "code",
   "execution_count": null,
   "id": "b280c7ca",
   "metadata": {},
   "outputs": [],
   "source": []
  },
  {
   "cell_type": "markdown",
   "id": "f93bedbd",
   "metadata": {},
   "source": [
    "### numpy"
   ]
  },
  {
   "cell_type": "code",
   "execution_count": null,
   "id": "7ec79de5",
   "metadata": {},
   "outputs": [],
   "source": []
  },
  {
   "cell_type": "code",
   "execution_count": 4,
   "id": "71d6491a",
   "metadata": {},
   "outputs": [
    {
     "data": {
      "text/plain": [
       "array([ 1,  2,  3,  4,  5,  6,  7,  8,  9, 10, 11, 12])"
      ]
     },
     "execution_count": 4,
     "metadata": {},
     "output_type": "execute_result"
    },
    {
     "data": {
      "text/plain": [
       "array([ 3,  6,  1,  4,  9,  1,  2, 10,  7])"
      ]
     },
     "execution_count": 4,
     "metadata": {},
     "output_type": "execute_result"
    }
   ],
   "source": [
    "xa = np.arange(1,12+1)\n",
    "xr = np.random.choice(xa,9)\n",
    "xa\n",
    "xr"
   ]
  },
  {
   "cell_type": "markdown",
   "id": "6d6993ab",
   "metadata": {},
   "source": [
    "xa 는 1부터 12까지의 수열,\n",
    "\n",
    "xr 은 xa 로부터 랜덤하게 뽑은 9개의 숫자 (1 차원 array)\n",
    "\n",
    "xr 의 형태를 바꾸어 (3,3) 행렬로 만들자"
   ]
  },
  {
   "cell_type": "code",
   "execution_count": null,
   "id": "276ca1db",
   "metadata": {},
   "outputs": [],
   "source": []
  },
  {
   "cell_type": "code",
   "execution_count": 5,
   "id": "605eb6c5",
   "metadata": {},
   "outputs": [
    {
     "data": {
      "text/plain": [
       "array([[ 3,  6,  1],\n",
       "       [ 4,  9,  1],\n",
       "       [ 2, 10,  7]])"
      ]
     },
     "execution_count": 5,
     "metadata": {},
     "output_type": "execute_result"
    }
   ],
   "source": [
    "xr3 = xr.reshape(3,3)\n",
    "xr3"
   ]
  },
  {
   "cell_type": "code",
   "execution_count": 6,
   "id": "3f077aeb",
   "metadata": {},
   "outputs": [
    {
     "data": {
      "text/plain": [
       "(9,)"
      ]
     },
     "execution_count": 6,
     "metadata": {},
     "output_type": "execute_result"
    },
    {
     "data": {
      "text/plain": [
       "(3, 3)"
      ]
     },
     "execution_count": 6,
     "metadata": {},
     "output_type": "execute_result"
    }
   ],
   "source": [
    "xr.shape\n",
    "xr3.shape"
   ]
  },
  {
   "cell_type": "code",
   "execution_count": 7,
   "id": "55588f33",
   "metadata": {},
   "outputs": [
    {
     "data": {
      "text/plain": [
       "array([[[ 3,  6,  1]],\n",
       "\n",
       "       [[ 4,  9,  1]],\n",
       "\n",
       "       [[ 2, 10,  7]]])"
      ]
     },
     "execution_count": 7,
     "metadata": {},
     "output_type": "execute_result"
    }
   ],
   "source": [
    "xz= xr3.reshape((3,1,3))\n",
    "xz"
   ]
  },
  {
   "cell_type": "code",
   "execution_count": 8,
   "id": "9bbe7e99",
   "metadata": {},
   "outputs": [
    {
     "data": {
      "text/plain": [
       "(3, 1, 3)"
      ]
     },
     "execution_count": 8,
     "metadata": {},
     "output_type": "execute_result"
    }
   ],
   "source": [
    "xz.shape"
   ]
  },
  {
   "cell_type": "code",
   "execution_count": 9,
   "id": "13aaac9f",
   "metadata": {},
   "outputs": [
    {
     "data": {
      "text/plain": [
       "array([[ 3,  6,  1],\n",
       "       [ 4,  9,  1],\n",
       "       [ 2, 10,  7]])"
      ]
     },
     "execution_count": 9,
     "metadata": {},
     "output_type": "execute_result"
    }
   ],
   "source": [
    "xz.reshape((-1,3))"
   ]
  },
  {
   "cell_type": "code",
   "execution_count": 10,
   "id": "c17bfc6d",
   "metadata": {
    "scrolled": true
   },
   "outputs": [
    {
     "data": {
      "text/plain": [
       "array([[ 3,  6,  1],\n",
       "       [ 4,  9,  1],\n",
       "       [ 2, 10,  7]])"
      ]
     },
     "execution_count": 10,
     "metadata": {},
     "output_type": "execute_result"
    }
   ],
   "source": [
    "xz.squeeze()"
   ]
  },
  {
   "cell_type": "code",
   "execution_count": 11,
   "id": "35563c16",
   "metadata": {},
   "outputs": [
    {
     "data": {
      "text/plain": [
       "(3, 3)"
      ]
     },
     "execution_count": 11,
     "metadata": {},
     "output_type": "execute_result"
    }
   ],
   "source": [
    "xz.squeeze().shape"
   ]
  },
  {
   "cell_type": "code",
   "execution_count": null,
   "id": "da7094f7",
   "metadata": {},
   "outputs": [],
   "source": []
  },
  {
   "cell_type": "markdown",
   "id": "748d0e5e",
   "metadata": {},
   "source": [
    "3x3 단위행렬을 만들어 보자 "
   ]
  },
  {
   "cell_type": "code",
   "execution_count": 12,
   "id": "0ad9bc86",
   "metadata": {},
   "outputs": [
    {
     "data": {
      "text/plain": [
       "array([[1., 0., 0.],\n",
       "       [0., 1., 0.],\n",
       "       [0., 0., 1.]])"
      ]
     },
     "execution_count": 12,
     "metadata": {},
     "output_type": "execute_result"
    }
   ],
   "source": [
    "np.eye(3)"
   ]
  },
  {
   "cell_type": "markdown",
   "id": "563a2d7d",
   "metadata": {},
   "source": [
    "3x3 형태의 0 행렬을 만들어 보자"
   ]
  },
  {
   "cell_type": "code",
   "execution_count": 13,
   "id": "8575d640",
   "metadata": {},
   "outputs": [
    {
     "data": {
      "text/plain": [
       "array([[0., 0., 0.],\n",
       "       [0., 0., 0.],\n",
       "       [0., 0., 0.]])"
      ]
     },
     "execution_count": 13,
     "metadata": {},
     "output_type": "execute_result"
    }
   ],
   "source": [
    "np.zeros((3,3))"
   ]
  },
  {
   "cell_type": "markdown",
   "id": "55dca124",
   "metadata": {},
   "source": [
    "행렬에 숫자를 더하면, 행렬의 모든 원소에 숫자가 더해진다 ( bradcasting )"
   ]
  },
  {
   "cell_type": "code",
   "execution_count": 14,
   "id": "9ea8bb57",
   "metadata": {},
   "outputs": [
    {
     "data": {
      "text/plain": [
       "array([[1., 1., 1.],\n",
       "       [1., 1., 1.],\n",
       "       [1., 1., 1.]])"
      ]
     },
     "execution_count": 14,
     "metadata": {},
     "output_type": "execute_result"
    }
   ],
   "source": [
    "np.zeros((3,3))+1"
   ]
  },
  {
   "cell_type": "code",
   "execution_count": 15,
   "id": "f39c1d7d",
   "metadata": {},
   "outputs": [
    {
     "data": {
      "text/plain": [
       "array([[2., 1., 1.],\n",
       "       [1., 2., 1.],\n",
       "       [1., 1., 2.]])"
      ]
     },
     "execution_count": 15,
     "metadata": {},
     "output_type": "execute_result"
    }
   ],
   "source": [
    "np.zeros((3,3)) + 1 + np.eye(3)"
   ]
  },
  {
   "cell_type": "code",
   "execution_count": 16,
   "id": "59485e9c",
   "metadata": {},
   "outputs": [
    {
     "data": {
      "text/plain": [
       "array([[ 5.,  7.,  2.],\n",
       "       [ 5., 11.,  2.],\n",
       "       [ 3., 11.,  9.]])"
      ]
     },
     "execution_count": 16,
     "metadata": {},
     "output_type": "execute_result"
    }
   ],
   "source": [
    "xm = np.zeros((3,3))+1+np.eye(3)+xr.reshape(3,3)\n",
    "xm"
   ]
  },
  {
   "cell_type": "code",
   "execution_count": 17,
   "id": "326b5930",
   "metadata": {},
   "outputs": [
    {
     "data": {
      "text/plain": [
       "array([[ 5.,  7.],\n",
       "       [ 5., 11.]])"
      ]
     },
     "execution_count": 17,
     "metadata": {},
     "output_type": "execute_result"
    }
   ],
   "source": [
    "xm[0:2, 0:2]"
   ]
  },
  {
   "cell_type": "code",
   "execution_count": 18,
   "id": "74f8ed67",
   "metadata": {},
   "outputs": [
    {
     "data": {
      "text/plain": [
       "array([ 5., 11.])"
      ]
     },
     "execution_count": 18,
     "metadata": {},
     "output_type": "execute_result"
    }
   ],
   "source": [
    "xm[[0,1], [0,1]]"
   ]
  },
  {
   "cell_type": "code",
   "execution_count": null,
   "id": "eb0d6967",
   "metadata": {},
   "outputs": [],
   "source": []
  },
  {
   "cell_type": "markdown",
   "id": "c5911451",
   "metadata": {},
   "source": [
    "#### pandas"
   ]
  },
  {
   "cell_type": "code",
   "execution_count": null,
   "id": "7424a375",
   "metadata": {},
   "outputs": [],
   "source": []
  },
  {
   "cell_type": "code",
   "execution_count": 19,
   "id": "ec7c5461",
   "metadata": {},
   "outputs": [],
   "source": [
    "xp = pd.DataFrame(xm)"
   ]
  },
  {
   "cell_type": "code",
   "execution_count": 20,
   "id": "88a4d5a2",
   "metadata": {},
   "outputs": [
    {
     "data": {
      "text/html": [
       "<div>\n",
       "<style scoped>\n",
       "    .dataframe tbody tr th:only-of-type {\n",
       "        vertical-align: middle;\n",
       "    }\n",
       "\n",
       "    .dataframe tbody tr th {\n",
       "        vertical-align: top;\n",
       "    }\n",
       "\n",
       "    .dataframe thead th {\n",
       "        text-align: right;\n",
       "    }\n",
       "</style>\n",
       "<table border=\"1\" class=\"dataframe\">\n",
       "  <thead>\n",
       "    <tr style=\"text-align: right;\">\n",
       "      <th></th>\n",
       "      <th>0</th>\n",
       "      <th>1</th>\n",
       "      <th>2</th>\n",
       "    </tr>\n",
       "  </thead>\n",
       "  <tbody>\n",
       "    <tr>\n",
       "      <th>0</th>\n",
       "      <td>5.0</td>\n",
       "      <td>7.0</td>\n",
       "      <td>2.0</td>\n",
       "    </tr>\n",
       "    <tr>\n",
       "      <th>1</th>\n",
       "      <td>5.0</td>\n",
       "      <td>11.0</td>\n",
       "      <td>2.0</td>\n",
       "    </tr>\n",
       "    <tr>\n",
       "      <th>2</th>\n",
       "      <td>3.0</td>\n",
       "      <td>11.0</td>\n",
       "      <td>9.0</td>\n",
       "    </tr>\n",
       "  </tbody>\n",
       "</table>\n",
       "</div>"
      ],
      "text/plain": [
       "     0     1    2\n",
       "0  5.0   7.0  2.0\n",
       "1  5.0  11.0  2.0\n",
       "2  3.0  11.0  9.0"
      ]
     },
     "execution_count": 20,
     "metadata": {},
     "output_type": "execute_result"
    }
   ],
   "source": [
    "xp"
   ]
  },
  {
   "cell_type": "code",
   "execution_count": 21,
   "id": "3dfd1a24",
   "metadata": {},
   "outputs": [
    {
     "data": {
      "text/plain": [
       "0    5.0\n",
       "1    5.0\n",
       "2    3.0\n",
       "Name: 0, dtype: float64"
      ]
     },
     "execution_count": 21,
     "metadata": {},
     "output_type": "execute_result"
    }
   ],
   "source": [
    "xp[0]"
   ]
  },
  {
   "cell_type": "code",
   "execution_count": 23,
   "id": "c9d18147",
   "metadata": {},
   "outputs": [
    {
     "data": {
      "text/html": [
       "<div>\n",
       "<style scoped>\n",
       "    .dataframe tbody tr th:only-of-type {\n",
       "        vertical-align: middle;\n",
       "    }\n",
       "\n",
       "    .dataframe tbody tr th {\n",
       "        vertical-align: top;\n",
       "    }\n",
       "\n",
       "    .dataframe thead th {\n",
       "        text-align: right;\n",
       "    }\n",
       "</style>\n",
       "<table border=\"1\" class=\"dataframe\">\n",
       "  <thead>\n",
       "    <tr style=\"text-align: right;\">\n",
       "      <th></th>\n",
       "      <th>0</th>\n",
       "    </tr>\n",
       "  </thead>\n",
       "  <tbody>\n",
       "    <tr>\n",
       "      <th>0</th>\n",
       "      <td>5.0</td>\n",
       "    </tr>\n",
       "    <tr>\n",
       "      <th>1</th>\n",
       "      <td>5.0</td>\n",
       "    </tr>\n",
       "    <tr>\n",
       "      <th>2</th>\n",
       "      <td>3.0</td>\n",
       "    </tr>\n",
       "  </tbody>\n",
       "</table>\n",
       "</div>"
      ],
      "text/plain": [
       "     0\n",
       "0  5.0\n",
       "1  5.0\n",
       "2  3.0"
      ]
     },
     "execution_count": 23,
     "metadata": {},
     "output_type": "execute_result"
    }
   ],
   "source": [
    "xp[[0]]"
   ]
  },
  {
   "cell_type": "code",
   "execution_count": 24,
   "id": "6b1da1bb",
   "metadata": {},
   "outputs": [
    {
     "data": {
      "text/plain": [
       "{0: 0    5.0\n",
       " 1    5.0\n",
       " 2    3.0\n",
       " Name: 0, dtype: float64,\n",
       " 1: 0     7.0\n",
       " 1    11.0\n",
       " 2    11.0\n",
       " Name: 1, dtype: float64,\n",
       " 2: 0    2.0\n",
       " 1    2.0\n",
       " 2    9.0\n",
       " Name: 2, dtype: float64}"
      ]
     },
     "execution_count": 24,
     "metadata": {},
     "output_type": "execute_result"
    }
   ],
   "source": [
    "dict(xp)"
   ]
  },
  {
   "cell_type": "code",
   "execution_count": 27,
   "id": "7804efd7",
   "metadata": {},
   "outputs": [
    {
     "data": {
      "text/html": [
       "<div>\n",
       "<style scoped>\n",
       "    .dataframe tbody tr th:only-of-type {\n",
       "        vertical-align: middle;\n",
       "    }\n",
       "\n",
       "    .dataframe tbody tr th {\n",
       "        vertical-align: top;\n",
       "    }\n",
       "\n",
       "    .dataframe thead th {\n",
       "        text-align: right;\n",
       "    }\n",
       "</style>\n",
       "<table border=\"1\" class=\"dataframe\">\n",
       "  <thead>\n",
       "    <tr style=\"text-align: right;\">\n",
       "      <th></th>\n",
       "      <th>0</th>\n",
       "      <th>1</th>\n",
       "      <th>2</th>\n",
       "    </tr>\n",
       "  </thead>\n",
       "  <tbody>\n",
       "    <tr>\n",
       "      <th>0</th>\n",
       "      <td>5.0</td>\n",
       "      <td>7.0</td>\n",
       "      <td>2.0</td>\n",
       "    </tr>\n",
       "    <tr>\n",
       "      <th>1</th>\n",
       "      <td>5.0</td>\n",
       "      <td>11.0</td>\n",
       "      <td>2.0</td>\n",
       "    </tr>\n",
       "  </tbody>\n",
       "</table>\n",
       "</div>"
      ],
      "text/plain": [
       "     0     1    2\n",
       "0  5.0   7.0  2.0\n",
       "1  5.0  11.0  2.0"
      ]
     },
     "execution_count": 27,
     "metadata": {},
     "output_type": "execute_result"
    },
    {
     "data": {
      "text/html": [
       "<div>\n",
       "<style scoped>\n",
       "    .dataframe tbody tr th:only-of-type {\n",
       "        vertical-align: middle;\n",
       "    }\n",
       "\n",
       "    .dataframe tbody tr th {\n",
       "        vertical-align: top;\n",
       "    }\n",
       "\n",
       "    .dataframe thead th {\n",
       "        text-align: right;\n",
       "    }\n",
       "</style>\n",
       "<table border=\"1\" class=\"dataframe\">\n",
       "  <thead>\n",
       "    <tr style=\"text-align: right;\">\n",
       "      <th></th>\n",
       "      <th>0</th>\n",
       "      <th>2</th>\n",
       "    </tr>\n",
       "  </thead>\n",
       "  <tbody>\n",
       "    <tr>\n",
       "      <th>0</th>\n",
       "      <td>5.0</td>\n",
       "      <td>2.0</td>\n",
       "    </tr>\n",
       "    <tr>\n",
       "      <th>1</th>\n",
       "      <td>5.0</td>\n",
       "      <td>2.0</td>\n",
       "    </tr>\n",
       "  </tbody>\n",
       "</table>\n",
       "</div>"
      ],
      "text/plain": [
       "     0    2\n",
       "0  5.0  2.0\n",
       "1  5.0  2.0"
      ]
     },
     "execution_count": 27,
     "metadata": {},
     "output_type": "execute_result"
    }
   ],
   "source": [
    "xp[:2]\n",
    "xp[:2][[0,2]]"
   ]
  },
  {
   "cell_type": "code",
   "execution_count": 28,
   "id": "1a74b7ca",
   "metadata": {},
   "outputs": [
    {
     "data": {
      "text/html": [
       "<div>\n",
       "<style scoped>\n",
       "    .dataframe tbody tr th:only-of-type {\n",
       "        vertical-align: middle;\n",
       "    }\n",
       "\n",
       "    .dataframe tbody tr th {\n",
       "        vertical-align: top;\n",
       "    }\n",
       "\n",
       "    .dataframe thead th {\n",
       "        text-align: right;\n",
       "    }\n",
       "</style>\n",
       "<table border=\"1\" class=\"dataframe\">\n",
       "  <thead>\n",
       "    <tr style=\"text-align: right;\">\n",
       "      <th></th>\n",
       "      <th>0</th>\n",
       "      <th>2</th>\n",
       "    </tr>\n",
       "  </thead>\n",
       "  <tbody>\n",
       "    <tr>\n",
       "      <th>0</th>\n",
       "      <td>5.0</td>\n",
       "      <td>2.0</td>\n",
       "    </tr>\n",
       "    <tr>\n",
       "      <th>2</th>\n",
       "      <td>3.0</td>\n",
       "      <td>9.0</td>\n",
       "    </tr>\n",
       "  </tbody>\n",
       "</table>\n",
       "</div>"
      ],
      "text/plain": [
       "     0    2\n",
       "0  5.0  2.0\n",
       "2  3.0  9.0"
      ]
     },
     "execution_count": 28,
     "metadata": {},
     "output_type": "execute_result"
    }
   ],
   "source": [
    "xp.iloc[[0,2],[0,2]]"
   ]
  },
  {
   "cell_type": "code",
   "execution_count": null,
   "id": "83760639",
   "metadata": {},
   "outputs": [],
   "source": []
  },
  {
   "cell_type": "markdown",
   "id": "dadece07",
   "metadata": {},
   "source": [
    "#### pandas with mtcars"
   ]
  },
  {
   "cell_type": "code",
   "execution_count": null,
   "id": "c91e485b",
   "metadata": {},
   "outputs": [],
   "source": []
  },
  {
   "cell_type": "code",
   "execution_count": null,
   "id": "31b2816a",
   "metadata": {},
   "outputs": [],
   "source": [
    "mtcars = sm.datasets.get_rdataset('mtcars').data"
   ]
  },
  {
   "cell_type": "code",
   "execution_count": null,
   "id": "7ad3a3cd",
   "metadata": {},
   "outputs": [],
   "source": [
    "mtcars"
   ]
  },
  {
   "cell_type": "code",
   "execution_count": null,
   "id": "4fa8db13",
   "metadata": {},
   "outputs": [],
   "source": []
  },
  {
   "cell_type": "markdown",
   "id": "70dc7b26",
   "metadata": {},
   "source": [
    "열이름과 행이름을 알아보자"
   ]
  },
  {
   "cell_type": "code",
   "execution_count": null,
   "id": "30c844cc",
   "metadata": {},
   "outputs": [],
   "source": [
    "mtcars.columns"
   ]
  },
  {
   "cell_type": "code",
   "execution_count": null,
   "id": "6a2ff3a3",
   "metadata": {},
   "outputs": [],
   "source": [
    "mtcars.index"
   ]
  },
  {
   "cell_type": "code",
   "execution_count": null,
   "id": "f565f1cb",
   "metadata": {},
   "outputs": [],
   "source": []
  },
  {
   "cell_type": "markdown",
   "id": "fa8a27a3",
   "metadata": {},
   "source": [
    "일부 변수만을 뽑아 dx 데이터프레임을 만들자"
   ]
  },
  {
   "cell_type": "code",
   "execution_count": null,
   "id": "e2659fcb",
   "metadata": {},
   "outputs": [],
   "source": [
    "dx = mtcars[ ['gear', 'cyl', 'carb'] ]\n",
    "dx"
   ]
  },
  {
   "cell_type": "code",
   "execution_count": null,
   "id": "a1709902",
   "metadata": {},
   "outputs": [],
   "source": []
  },
  {
   "cell_type": "code",
   "execution_count": null,
   "id": "d1276422",
   "metadata": {},
   "outputs": [],
   "source": [
    "dx[:3]"
   ]
  },
  {
   "cell_type": "code",
   "execution_count": null,
   "id": "93a7fc4d",
   "metadata": {},
   "outputs": [],
   "source": []
  },
  {
   "cell_type": "markdown",
   "id": "ae6f25ed",
   "metadata": {},
   "source": [
    "여러 개의 데이터프래임을 종으로 횡으로 연결하자.\n",
    "\n",
    "pd.concat 을 사용할 때는, 연결하려는 데이터프레임을\n",
    "\n",
    "리스트로 [ ] 묶어주고, 연결 방향을 axis 로 나타내야 한다."
   ]
  },
  {
   "cell_type": "code",
   "execution_count": null,
   "id": "80d96ab5",
   "metadata": {},
   "outputs": [],
   "source": [
    "pd.concat( [ dx[:3], dx[3:6] ] , axis=0)"
   ]
  },
  {
   "cell_type": "code",
   "execution_count": null,
   "id": "4b42b13e",
   "metadata": {},
   "outputs": [],
   "source": []
  },
  {
   "cell_type": "markdown",
   "id": "fb2f4467",
   "metadata": {},
   "source": [
    "gear, cyl, carb 세 개의 변수값이 같은 경우의 개수를 세자"
   ]
  },
  {
   "cell_type": "code",
   "execution_count": null,
   "id": "3c657af1",
   "metadata": {},
   "outputs": [],
   "source": [
    "dy = dx.groupby(['gear','cyl','carb'])[['carb']].count()\n",
    "dy"
   ]
  },
  {
   "cell_type": "code",
   "execution_count": null,
   "id": "efda0d91",
   "metadata": {},
   "outputs": [],
   "source": []
  },
  {
   "cell_type": "markdown",
   "id": "e1353982",
   "metadata": {},
   "source": [
    "개수를 세어서 얻게 된 결과 이름을 count 로 바꾸자"
   ]
  },
  {
   "cell_type": "code",
   "execution_count": null,
   "id": "9919b6dd",
   "metadata": {},
   "outputs": [],
   "source": [
    "dz = dy.rename(columns={'carb':'count'})\n",
    "dz"
   ]
  },
  {
   "cell_type": "code",
   "execution_count": null,
   "id": "1ed6c835",
   "metadata": {},
   "outputs": [],
   "source": []
  },
  {
   "cell_type": "markdown",
   "id": "e7b0c695",
   "metadata": {},
   "source": [
    "인덱스 변수들을 일반 변수들로 바꾸어 다루기 쉽게 만들자"
   ]
  },
  {
   "cell_type": "code",
   "execution_count": null,
   "id": "e4b6a43b",
   "metadata": {},
   "outputs": [],
   "source": [
    "dz.reset_index()"
   ]
  },
  {
   "cell_type": "code",
   "execution_count": null,
   "id": "c04c0478",
   "metadata": {},
   "outputs": [],
   "source": []
  },
  {
   "cell_type": "markdown",
   "id": "05aea398",
   "metadata": {},
   "source": [
    "분할표의 형태를 ( gear cyl )을 인덱스로 하고, carb 값을 열로 하는 형태로 바꾸자"
   ]
  },
  {
   "cell_type": "code",
   "execution_count": null,
   "id": "7edd34a4",
   "metadata": {},
   "outputs": [],
   "source": [
    "dz.unstack()"
   ]
  },
  {
   "cell_type": "code",
   "execution_count": null,
   "id": "c2ee84ce",
   "metadata": {},
   "outputs": [],
   "source": []
  },
  {
   "cell_type": "markdown",
   "id": "72c65a7e",
   "metadata": {},
   "source": [
    "NaN 을 0 으로 바꿔주자"
   ]
  },
  {
   "cell_type": "code",
   "execution_count": null,
   "id": "526a13fb",
   "metadata": {
    "scrolled": false
   },
   "outputs": [],
   "source": [
    "dz.unstack(fill_value=0)"
   ]
  },
  {
   "cell_type": "code",
   "execution_count": null,
   "id": "f8a4e2c6",
   "metadata": {},
   "outputs": [],
   "source": []
  },
  {
   "cell_type": "code",
   "execution_count": null,
   "id": "7c0e7767",
   "metadata": {},
   "outputs": [],
   "source": []
  }
 ],
 "metadata": {
  "kernelspec": {
   "display_name": "Python 3 (ipykernel)",
   "language": "python",
   "name": "python3"
  },
  "language_info": {
   "codemirror_mode": {
    "name": "ipython",
    "version": 3
   },
   "file_extension": ".py",
   "mimetype": "text/x-python",
   "name": "python",
   "nbconvert_exporter": "python",
   "pygments_lexer": "ipython3",
   "version": "3.9.12"
  }
 },
 "nbformat": 4,
 "nbformat_minor": 5
}
