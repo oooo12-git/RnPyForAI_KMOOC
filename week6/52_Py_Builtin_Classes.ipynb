{
 "cells": [
  {
   "cell_type": "markdown",
   "id": "9e3583ce",
   "metadata": {},
   "source": [
    "# R 과 Python 5주차 - 제2강"
   ]
  },
  {
   "cell_type": "markdown",
   "id": "e29ccbd0",
   "metadata": {},
   "source": [
    "## Python 에서 제공되는 기본 클래스"
   ]
  },
  {
   "cell_type": "markdown",
   "id": "d199e60c",
   "metadata": {},
   "source": [
    "다음 셀은, 이후의 셀에서, 각 셀에서 여러 개의 출력를\n",
    "표시하도록 하는 옵션 설정 변경임"
   ]
  },
  {
   "cell_type": "code",
   "execution_count": 1,
   "id": "46381c18",
   "metadata": {},
   "outputs": [],
   "source": [
    "from IPython.core.interactiveshell import InteractiveShell\n",
    "InteractiveShell.ast_node_interactivity=\"all\""
   ]
  },
  {
   "cell_type": "markdown",
   "id": "9a3e6586",
   "metadata": {},
   "source": [
    "### vector / list / dictionary / comprehension / slicing "
   ]
  },
  {
   "cell_type": "markdown",
   "id": "f93bedbd",
   "metadata": {},
   "source": [
    "##### 구성 방법"
   ]
  },
  {
   "cell_type": "markdown",
   "id": "4f1e5fd4",
   "metadata": {},
   "source": [
    "tuple 과  set 의 구성, set 을 구성하는 두 가지 방법 "
   ]
  },
  {
   "cell_type": "code",
   "execution_count": 2,
   "id": "f7907030",
   "metadata": {},
   "outputs": [
    {
     "data": {
      "text/plain": [
       "(1, 2, 3)"
      ]
     },
     "execution_count": 2,
     "metadata": {},
     "output_type": "execute_result"
    },
    {
     "data": {
      "text/plain": [
       "{1, 2, 'c'}"
      ]
     },
     "execution_count": 2,
     "metadata": {},
     "output_type": "execute_result"
    },
    {
     "data": {
      "text/plain": [
       "{1, 2, 'c'}"
      ]
     },
     "execution_count": 2,
     "metadata": {},
     "output_type": "execute_result"
    }
   ],
   "source": [
    "(1,2,3)\n",
    "{ 1, 2, 'c'}\n",
    "set([1, 2, 'c'])"
   ]
  },
  {
   "cell_type": "markdown",
   "id": "ec44111b",
   "metadata": {},
   "source": [
    "list 구성, 숫자로만 이루어지거나, 다양한 형태로 구성"
   ]
  },
  {
   "cell_type": "markdown",
   "id": "748d0e5e",
   "metadata": {},
   "source": [
    "딕셔너리를 구성하는 세 가지 방법"
   ]
  },
  {
   "cell_type": "code",
   "execution_count": 3,
   "id": "6ac1ee04",
   "metadata": {},
   "outputs": [
    {
     "data": {
      "text/plain": [
       "{'a': 1, 'b': 2, 'c': 'c'}"
      ]
     },
     "execution_count": 3,
     "metadata": {},
     "output_type": "execute_result"
    },
    {
     "data": {
      "text/plain": [
       "{'a': 1, 'b': 2, 'c': 'c'}"
      ]
     },
     "execution_count": 3,
     "metadata": {},
     "output_type": "execute_result"
    }
   ],
   "source": [
    "{'a': 1,  'b': 2,  'c': 'c' }     \n",
    "\n",
    "dict( a=1,  b=2,  c='c' ) "
   ]
  },
  {
   "cell_type": "markdown",
   "id": "8572e4ea",
   "metadata": {},
   "source": [
    "> keys 와 values 를 따로 묶어서 한꺼번에 구성할 수 있음"
   ]
  },
  {
   "cell_type": "code",
   "execution_count": 4,
   "id": "fad1a345",
   "metadata": {},
   "outputs": [
    {
     "data": {
      "text/plain": [
       "{'a': 1, 'b': 2, 'c': 3}"
      ]
     },
     "execution_count": 4,
     "metadata": {},
     "output_type": "execute_result"
    }
   ],
   "source": [
    "dict(  zip( ['a', 'b', 'c'],  [1,2,3] )  )    "
   ]
  },
  {
   "cell_type": "markdown",
   "id": "0628ce30",
   "metadata": {},
   "source": [
    "#### comprehension (함포)"
   ]
  },
  {
   "cell_type": "markdown",
   "id": "7832593f",
   "metadata": {},
   "source": [
    "> 리스트-함포"
   ]
  },
  {
   "cell_type": "code",
   "execution_count": 5,
   "id": "6961bcd8",
   "metadata": {
    "scrolled": true
   },
   "outputs": [
    {
     "data": {
      "text/plain": [
       "[1, 4, 9]"
      ]
     },
     "execution_count": 5,
     "metadata": {},
     "output_type": "execute_result"
    }
   ],
   "source": [
    "[  u**2   for u  in  [1, 2, 3]   ]     "
   ]
  },
  {
   "cell_type": "code",
   "execution_count": 7,
   "id": "a62f439b",
   "metadata": {},
   "outputs": [
    {
     "data": {
      "text/plain": [
       "[3, 6, 9]"
      ]
     },
     "execution_count": 7,
     "metadata": {},
     "output_type": "execute_result"
    }
   ],
   "source": [
    "[  a+b   for  a, b  in  zip( [1, 2, 3], [ 2, 4, 6] ) ] "
   ]
  },
  {
   "cell_type": "code",
   "execution_count": 8,
   "id": "1210ca9d",
   "metadata": {},
   "outputs": [
    {
     "data": {
      "text/plain": [
       "[1.0, 1.4142135623730951, 1.7320508075688772]"
      ]
     },
     "execution_count": 8,
     "metadata": {},
     "output_type": "execute_result"
    }
   ],
   "source": [
    "import numpy as np\n",
    "\n",
    "[  np.sqrt(u)   for u  in  [1, 2, 3]   ]"
   ]
  },
  {
   "cell_type": "markdown",
   "id": "356d4523",
   "metadata": {},
   "source": [
    "셋-함포도 있고, 다음은 딕셔터리-함포"
   ]
  },
  {
   "cell_type": "code",
   "execution_count": 9,
   "id": "7331db2d",
   "metadata": {},
   "outputs": [
    {
     "data": {
      "text/plain": [
       "{1: 1, 2: 4, 3: 9}"
      ]
     },
     "execution_count": 9,
     "metadata": {},
     "output_type": "execute_result"
    }
   ],
   "source": [
    "{  u: u**2  for  u  in  [1, 2, 3]  }    "
   ]
  },
  {
   "cell_type": "markdown",
   "id": "97c5be3b",
   "metadata": {},
   "source": [
    "파이썬 2.x 에서는 comprehension 기능이 없었고,\n",
    "대신 map 이라는 함수를 이용하여 처리하였음."
   ]
  },
  {
   "cell_type": "code",
   "execution_count": 11,
   "id": "5b65259b-1919-48ca-9245-f74f289f4dde",
   "metadata": {},
   "outputs": [
    {
     "data": {
      "text/plain": [
       "[1.0, 1.4142135623730951, 1.7320508075688772]"
      ]
     },
     "execution_count": 11,
     "metadata": {},
     "output_type": "execute_result"
    }
   ],
   "source": [
    "list(map( np.sqrt, [1, 2, 3]  ))"
   ]
  },
  {
   "cell_type": "code",
   "execution_count": 12,
   "id": "0f587cbb-c7da-4a7f-a667-2ec0b54df189",
   "metadata": {},
   "outputs": [
    {
     "data": {
      "text/plain": [
       "[2, 1, 0, 1]"
      ]
     },
     "execution_count": 12,
     "metadata": {},
     "output_type": "execute_result"
    }
   ],
   "source": [
    "list( map( np.abs, [-2, -1, 0, 1]  ) )"
   ]
  },
  {
   "cell_type": "code",
   "execution_count": null,
   "id": "adbb1dee",
   "metadata": {},
   "outputs": [],
   "source": []
  },
  {
   "cell_type": "markdown",
   "id": "a8a7caa6",
   "metadata": {},
   "source": [
    "####  list 메써드"
   ]
  },
  {
   "cell_type": "code",
   "execution_count": 17,
   "id": "a94036b4",
   "metadata": {},
   "outputs": [],
   "source": [
    "x = [1, 2, 3]"
   ]
  },
  {
   "cell_type": "markdown",
   "id": "c5510930",
   "metadata": {},
   "source": [
    "> append 는 마지막에 원소를 추가"
   ]
  },
  {
   "cell_type": "code",
   "execution_count": 18,
   "id": "31b2816a",
   "metadata": {},
   "outputs": [
    {
     "data": {
      "text/plain": [
       "[1, 2, 3, 3]"
      ]
     },
     "execution_count": 18,
     "metadata": {},
     "output_type": "execute_result"
    }
   ],
   "source": [
    "x.append(3); x"
   ]
  },
  {
   "cell_type": "markdown",
   "id": "e9d25e51",
   "metadata": {},
   "source": [
    "> extend 는 마지막에 다른 list 를 연결하는 것"
   ]
  },
  {
   "cell_type": "code",
   "execution_count": 19,
   "id": "1b3e1cf1",
   "metadata": {},
   "outputs": [
    {
     "data": {
      "text/plain": [
       "[1, 2, 3, 3, 4, 5]"
      ]
     },
     "execution_count": 19,
     "metadata": {},
     "output_type": "execute_result"
    }
   ],
   "source": [
    "x.extend([4,5]); x"
   ]
  },
  {
   "cell_type": "markdown",
   "id": "b228344b",
   "metadata": {},
   "source": [
    "insert 는 지정된 위치에 원소를 추가 "
   ]
  },
  {
   "cell_type": "code",
   "execution_count": 20,
   "id": "a05ce3e4",
   "metadata": {},
   "outputs": [
    {
     "data": {
      "text/plain": [
       "[[6, 7], 1, 2, 3, 3, 4, 5]"
      ]
     },
     "execution_count": 20,
     "metadata": {},
     "output_type": "execute_result"
    }
   ],
   "source": [
    "x.insert(0,[6,7]); x"
   ]
  },
  {
   "cell_type": "markdown",
   "id": "9c45ca64",
   "metadata": {},
   "source": [
    "remove : 지정된 값을 갖는 원소 중 맨 처음 나오는 것을 제거"
   ]
  },
  {
   "cell_type": "code",
   "execution_count": 21,
   "id": "697ba823",
   "metadata": {},
   "outputs": [
    {
     "data": {
      "text/plain": [
       "[[6, 7], 1, 2, 3, 3, 4]"
      ]
     },
     "execution_count": 21,
     "metadata": {},
     "output_type": "execute_result"
    }
   ],
   "source": [
    "x.remove(5); x"
   ]
  },
  {
   "cell_type": "markdown",
   "id": "1a0ac6e1",
   "metadata": {},
   "source": [
    "pop : 지정된 위치의 값을 제거(튀겨낸다)"
   ]
  },
  {
   "cell_type": "code",
   "execution_count": 22,
   "id": "0f925ad4",
   "metadata": {
    "scrolled": true
   },
   "outputs": [
    {
     "data": {
      "text/plain": [
       "[6, 7]"
      ]
     },
     "execution_count": 22,
     "metadata": {},
     "output_type": "execute_result"
    },
    {
     "data": {
      "text/plain": [
       "[1, 2, 3, 3, 4]"
      ]
     },
     "execution_count": 22,
     "metadata": {},
     "output_type": "execute_result"
    }
   ],
   "source": [
    "x.pop(0); x"
   ]
  },
  {
   "cell_type": "markdown",
   "id": "264b16c7",
   "metadata": {},
   "source": [
    "count : 지정된 값이 포함된 횟수를 제시"
   ]
  },
  {
   "cell_type": "code",
   "execution_count": 23,
   "id": "52adfc90",
   "metadata": {},
   "outputs": [
    {
     "data": {
      "text/plain": [
       "2"
      ]
     },
     "execution_count": 23,
     "metadata": {},
     "output_type": "execute_result"
    }
   ],
   "source": [
    "x.count(3)"
   ]
  },
  {
   "cell_type": "code",
   "execution_count": 25,
   "id": "2b1a23db-104f-406a-bb77-89fd82e90640",
   "metadata": {},
   "outputs": [],
   "source": [
    "x.reverse()"
   ]
  },
  {
   "cell_type": "code",
   "execution_count": 26,
   "id": "4ced1633-c27e-4af1-9444-9e6c6089b004",
   "metadata": {},
   "outputs": [
    {
     "data": {
      "text/plain": [
       "[4, 3, 3, 2, 1]"
      ]
     },
     "execution_count": 26,
     "metadata": {},
     "output_type": "execute_result"
    }
   ],
   "source": [
    "x"
   ]
  },
  {
   "cell_type": "code",
   "execution_count": 27,
   "id": "514be3e4",
   "metadata": {},
   "outputs": [
    {
     "data": {
      "text/plain": [
       "[1, 2, 3, 3, 4]"
      ]
     },
     "execution_count": 27,
     "metadata": {},
     "output_type": "execute_result"
    }
   ],
   "source": [
    "x.sort(); x"
   ]
  },
  {
   "cell_type": "code",
   "execution_count": null,
   "id": "612bf980",
   "metadata": {},
   "outputs": [],
   "source": []
  },
  {
   "cell_type": "markdown",
   "id": "ccdb808c",
   "metadata": {},
   "source": [
    "####  dictionary 메써드"
   ]
  },
  {
   "cell_type": "code",
   "execution_count": 29,
   "id": "ec0219bc",
   "metadata": {},
   "outputs": [
    {
     "data": {
      "text/plain": [
       "{'a': 1, 'b': 2, 'c': 'c'}"
      ]
     },
     "execution_count": 29,
     "metadata": {},
     "output_type": "execute_result"
    }
   ],
   "source": [
    "x = {'a': 1,  'b': 2,  'c': 'c' }; x    "
   ]
  },
  {
   "cell_type": "markdown",
   "id": "b83e3968",
   "metadata": {},
   "source": [
    "> dictionary 구성을 알아보기 위한, items, keys, values"
   ]
  },
  {
   "cell_type": "code",
   "execution_count": 20,
   "id": "173ed105",
   "metadata": {},
   "outputs": [
    {
     "data": {
      "text/plain": [
       "dict_items([('a', 1), ('b', 2), ('c', 'c')])"
      ]
     },
     "execution_count": 20,
     "metadata": {},
     "output_type": "execute_result"
    }
   ],
   "source": [
    "x.items()"
   ]
  },
  {
   "cell_type": "code",
   "execution_count": 21,
   "id": "17739cfa",
   "metadata": {},
   "outputs": [
    {
     "data": {
      "text/plain": [
       "dict_keys(['a', 'b', 'c'])"
      ]
     },
     "execution_count": 21,
     "metadata": {},
     "output_type": "execute_result"
    }
   ],
   "source": [
    "x.keys()"
   ]
  },
  {
   "cell_type": "code",
   "execution_count": 22,
   "id": "412bcc77",
   "metadata": {},
   "outputs": [
    {
     "data": {
      "text/plain": [
       "dict_values([1, 2, 'c'])"
      ]
     },
     "execution_count": 22,
     "metadata": {},
     "output_type": "execute_result"
    }
   ],
   "source": [
    "x.values()"
   ]
  },
  {
   "cell_type": "markdown",
   "id": "f18750bd",
   "metadata": {},
   "source": [
    "dictionary 구성 값을 조회하고 변경하는 방법들"
   ]
  },
  {
   "cell_type": "code",
   "execution_count": 23,
   "id": "36119b6a",
   "metadata": {},
   "outputs": [
    {
     "data": {
      "text/plain": [
       "{'a': 1, 'b': 2, 'c': 30}"
      ]
     },
     "execution_count": 23,
     "metadata": {},
     "output_type": "execute_result"
    }
   ],
   "source": [
    "x.update({'c':30}); x"
   ]
  },
  {
   "cell_type": "code",
   "execution_count": 24,
   "id": "415e1fc8",
   "metadata": {},
   "outputs": [
    {
     "data": {
      "text/plain": [
       "30"
      ]
     },
     "execution_count": 24,
     "metadata": {},
     "output_type": "execute_result"
    },
    {
     "data": {
      "text/plain": [
       "{'a': 1, 'b': 2}"
      ]
     },
     "execution_count": 24,
     "metadata": {},
     "output_type": "execute_result"
    }
   ],
   "source": [
    "x.pop('c'); x"
   ]
  },
  {
   "cell_type": "code",
   "execution_count": 25,
   "id": "7160d863",
   "metadata": {},
   "outputs": [
    {
     "data": {
      "text/plain": [
       "2"
      ]
     },
     "execution_count": 25,
     "metadata": {},
     "output_type": "execute_result"
    }
   ],
   "source": [
    "x['b']"
   ]
  },
  {
   "cell_type": "code",
   "execution_count": 26,
   "id": "14dc520d",
   "metadata": {},
   "outputs": [
    {
     "data": {
      "text/plain": [
       "{'a': 100, 'b': 2}"
      ]
     },
     "execution_count": 26,
     "metadata": {},
     "output_type": "execute_result"
    }
   ],
   "source": [
    "x['a']=100; x"
   ]
  },
  {
   "cell_type": "markdown",
   "id": "c135947b",
   "metadata": {},
   "source": [
    "dictionary 에 대하여는, \n",
    "\n",
    "x[0] 혹은 x[1] 과 같이 위치순서로 값을 조회할 수 없음\n",
    "\n",
    "> 대신 다음과 같은 방법을 사용할 수 있음."
   ]
  },
  {
   "cell_type": "code",
   "execution_count": 30,
   "id": "ea5cf4b5-ce5b-430c-8742-da40f220be01",
   "metadata": {},
   "outputs": [
    {
     "data": {
      "text/plain": [
       "['a', 'b', 'c']"
      ]
     },
     "execution_count": 30,
     "metadata": {},
     "output_type": "execute_result"
    }
   ],
   "source": [
    "k = list(x.keys()) ; k"
   ]
  },
  {
   "cell_type": "code",
   "execution_count": 31,
   "id": "fa12fab9-b06e-4fb2-8265-a00e115d4d7e",
   "metadata": {},
   "outputs": [
    {
     "data": {
      "text/plain": [
       "1"
      ]
     },
     "execution_count": 31,
     "metadata": {},
     "output_type": "execute_result"
    },
    {
     "data": {
      "text/plain": [
       "2"
      ]
     },
     "execution_count": 31,
     "metadata": {},
     "output_type": "execute_result"
    }
   ],
   "source": [
    "x[k[0]]\n",
    "x[k[1]]"
   ]
  },
  {
   "cell_type": "code",
   "execution_count": null,
   "id": "394fb7de",
   "metadata": {},
   "outputs": [],
   "source": []
  },
  {
   "cell_type": "markdown",
   "id": "3f156204",
   "metadata": {},
   "source": [
    "####  indexing / slicing "
   ]
  },
  {
   "cell_type": "code",
   "execution_count": 32,
   "id": "8dc81c58",
   "metadata": {},
   "outputs": [
    {
     "data": {
      "text/plain": [
       "[1, 3, 5, 7, 8]"
      ]
     },
     "execution_count": 32,
     "metadata": {},
     "output_type": "execute_result"
    },
    {
     "data": {
      "text/plain": [
       "5"
      ]
     },
     "execution_count": 32,
     "metadata": {},
     "output_type": "execute_result"
    }
   ],
   "source": [
    "x = [1, 3, 5, 7, 8] \n",
    "x\n",
    "len(x)"
   ]
  },
  {
   "cell_type": "code",
   "execution_count": 33,
   "id": "5fb91030",
   "metadata": {},
   "outputs": [
    {
     "data": {
      "text/plain": [
       "range(0, 4)"
      ]
     },
     "execution_count": 33,
     "metadata": {},
     "output_type": "execute_result"
    },
    {
     "data": {
      "text/plain": [
       "[0, 1, 2, 3]"
      ]
     },
     "execution_count": 33,
     "metadata": {},
     "output_type": "execute_result"
    },
    {
     "data": {
      "text/plain": [
       "[0, 1, 2, 3]"
      ]
     },
     "execution_count": 33,
     "metadata": {},
     "output_type": "execute_result"
    }
   ],
   "source": [
    "range(4)\n",
    "list( range(4) )\n",
    "list( range(0,4) )"
   ]
  },
  {
   "cell_type": "markdown",
   "id": "19976839",
   "metadata": {},
   "source": [
    "slice 는 list 의 연속된 일부를 추출하는 것. \n",
    "숫자를 쓰지 않으면 맨 처음, 혹은 맨 마지막"
   ]
  },
  {
   "cell_type": "code",
   "execution_count": 34,
   "id": "bfc48baa",
   "metadata": {},
   "outputs": [
    {
     "data": {
      "text/plain": [
       "[1, 3, 5, 7]"
      ]
     },
     "execution_count": 34,
     "metadata": {},
     "output_type": "execute_result"
    },
    {
     "data": {
      "text/plain": [
       "[1, 3, 5, 7]"
      ]
     },
     "execution_count": 34,
     "metadata": {},
     "output_type": "execute_result"
    },
    {
     "data": {
      "text/plain": [
       "[1, 3, 5, 7, 8]"
      ]
     },
     "execution_count": 34,
     "metadata": {},
     "output_type": "execute_result"
    }
   ],
   "source": [
    "x[0:4]\n",
    "x[:4]\n",
    "x[0:]"
   ]
  },
  {
   "cell_type": "markdown",
   "id": "659a3cca",
   "metadata": {},
   "source": [
    "> 음수는 뒤에서부터 순서를 센 것"
   ]
  },
  {
   "cell_type": "code",
   "execution_count": 35,
   "id": "07c06368",
   "metadata": {},
   "outputs": [
    {
     "data": {
      "text/plain": [
       "1"
      ]
     },
     "execution_count": 35,
     "metadata": {},
     "output_type": "execute_result"
    },
    {
     "data": {
      "text/plain": [
       "[1, 3, 5]"
      ]
     },
     "execution_count": 35,
     "metadata": {},
     "output_type": "execute_result"
    }
   ],
   "source": [
    "x[-5]\n",
    "x[-5:-2]"
   ]
  },
  {
   "cell_type": "markdown",
   "id": "3351fb9b",
   "metadata": {},
   "source": [
    "처음부터 끝까지 나열, 하나씩 건너뛰고 나열"
   ]
  },
  {
   "cell_type": "code",
   "execution_count": 36,
   "id": "e69b740d",
   "metadata": {},
   "outputs": [
    {
     "data": {
      "text/plain": [
       "[1, 3, 5, 7, 8]"
      ]
     },
     "execution_count": 36,
     "metadata": {},
     "output_type": "execute_result"
    },
    {
     "data": {
      "text/plain": [
       "[1, 3, 5, 7, 8]"
      ]
     },
     "execution_count": 36,
     "metadata": {},
     "output_type": "execute_result"
    },
    {
     "data": {
      "text/plain": [
       "[1, 5, 8]"
      ]
     },
     "execution_count": 36,
     "metadata": {},
     "output_type": "execute_result"
    }
   ],
   "source": [
    "x[:]\n",
    "x[::1]\n",
    "x[::2] # 2칸씩 띄어가면서 처음부터 끝까지."
   ]
  },
  {
   "cell_type": "markdown",
   "id": "96500522",
   "metadata": {},
   "source": [
    "맨 처음 원소 제외하고 나열, 맨 마지막 원소 제외하고 나열"
   ]
  },
  {
   "cell_type": "code",
   "execution_count": 33,
   "id": "a9d36f42",
   "metadata": {},
   "outputs": [
    {
     "data": {
      "text/plain": [
       "[3, 5, 7, 8]"
      ]
     },
     "execution_count": 33,
     "metadata": {},
     "output_type": "execute_result"
    },
    {
     "data": {
      "text/plain": [
       "[1, 3, 5, 7]"
      ]
     },
     "execution_count": 33,
     "metadata": {},
     "output_type": "execute_result"
    }
   ],
   "source": [
    "x[1:]\n",
    "x[:-1]"
   ]
  },
  {
   "cell_type": "markdown",
   "id": "04e8586f",
   "metadata": {},
   "source": [
    "역순으로 나열"
   ]
  },
  {
   "cell_type": "code",
   "execution_count": 34,
   "id": "192ff439",
   "metadata": {},
   "outputs": [
    {
     "data": {
      "text/plain": [
       "[8, 7, 5, 3, 1]"
      ]
     },
     "execution_count": 34,
     "metadata": {},
     "output_type": "execute_result"
    }
   ],
   "source": [
    "x[::-1]"
   ]
  },
  {
   "cell_type": "code",
   "execution_count": null,
   "id": "d1f752cd",
   "metadata": {},
   "outputs": [],
   "source": []
  },
  {
   "cell_type": "code",
   "execution_count": null,
   "id": "2ee1d05f",
   "metadata": {},
   "outputs": [],
   "source": []
  }
 ],
 "metadata": {
  "kernelspec": {
   "display_name": "Python 3 (ipykernel)",
   "language": "python",
   "name": "python3"
  },
  "language_info": {
   "codemirror_mode": {
    "name": "ipython",
    "version": 3
   },
   "file_extension": ".py",
   "mimetype": "text/x-python",
   "name": "python",
   "nbconvert_exporter": "python",
   "pygments_lexer": "ipython3",
   "version": "3.10.13"
  }
 },
 "nbformat": 4,
 "nbformat_minor": 5
}
