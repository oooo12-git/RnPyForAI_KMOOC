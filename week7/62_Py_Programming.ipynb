{
 "cells": [
  {
   "cell_type": "markdown",
   "id": "9e3583ce",
   "metadata": {},
   "source": [
    "# R 과 Python 6주차 - 제2강"
   ]
  },
  {
   "cell_type": "markdown",
   "id": "e29ccbd0",
   "metadata": {},
   "source": [
    "## Python 프로그래밍"
   ]
  },
  {
   "cell_type": "markdown",
   "id": "d199e60c",
   "metadata": {},
   "source": [
    "다음 셀은, 이후의 셀에서, 각 셀에서 여러 개의 출력를\n",
    "표시하도록 하는 옵션 설정 변경임"
   ]
  },
  {
   "cell_type": "code",
   "execution_count": 5,
   "id": "46381c18",
   "metadata": {},
   "outputs": [],
   "source": [
    "from IPython.core.interactiveshell import InteractiveShell\n",
    "InteractiveShell.ast_node_interactivity=\"all\""
   ]
  },
  {
   "cell_type": "markdown",
   "id": "9a3e6586",
   "metadata": {},
   "source": [
    "### string /  \"+\" / loop / if-else / function"
   ]
  },
  {
   "cell_type": "markdown",
   "id": "f93bedbd",
   "metadata": {},
   "source": [
    "#### string"
   ]
  },
  {
   "cell_type": "markdown",
   "id": "4f1e5fd4",
   "metadata": {},
   "source": []
  },
  {
   "cell_type": "code",
   "execution_count": 6,
   "id": "f7907030",
   "metadata": {},
   "outputs": [
    {
     "data": {
      "text/plain": [
       "['abc', 'xy']"
      ]
     },
     "execution_count": 6,
     "metadata": {},
     "output_type": "execute_result"
    }
   ],
   "source": [
    "x = [ 'abc' , \"xy\"]\n",
    "x"
   ]
  },
  {
   "cell_type": "markdown",
   "id": "ec44111b",
   "metadata": {},
   "source": [
    "R에서와 달리 len(x[0]) 는 3이다."
   ]
  },
  {
   "cell_type": "code",
   "execution_count": 7,
   "id": "dd1f165d",
   "metadata": {},
   "outputs": [
    {
     "data": {
      "text/plain": [
       "2"
      ]
     },
     "execution_count": 7,
     "metadata": {},
     "output_type": "execute_result"
    },
    {
     "data": {
      "text/plain": [
       "3"
      ]
     },
     "execution_count": 7,
     "metadata": {},
     "output_type": "execute_result"
    }
   ],
   "source": [
    "len(x)\n",
    "len(x[0])"
   ]
  },
  {
   "cell_type": "markdown",
   "id": "748d0e5e",
   "metadata": {},
   "source": [
    "string 사이에서의 \"+\" 은 연결을 의미하고,\n",
    "list 함포를 이용하여, 전체 list 원소들을 연결한다"
   ]
  },
  {
   "cell_type": "code",
   "execution_count": 8,
   "id": "6ac1ee04",
   "metadata": {},
   "outputs": [
    {
     "data": {
      "text/plain": [
       "['abc1', 'xy2']"
      ]
     },
     "execution_count": 8,
     "metadata": {},
     "output_type": "execute_result"
    }
   ],
   "source": [
    "[  a+str(b)   for a,b in zip( x, [1,2] )  ] "
   ]
  },
  {
   "cell_type": "markdown",
   "id": "8572e4ea",
   "metadata": {},
   "source": [
    "python 에서 string 의 메쏘드인 join 은, 문자열을 연결한다"
   ]
  },
  {
   "cell_type": "code",
   "execution_count": 9,
   "id": "fad1a345",
   "metadata": {},
   "outputs": [
    {
     "data": {
      "text/plain": [
       "'abc1#xy2'"
      ]
     },
     "execution_count": 9,
     "metadata": {},
     "output_type": "execute_result"
    }
   ],
   "source": [
    "'#'.join( ['abc1', 'xy2'] )                      "
   ]
  },
  {
   "cell_type": "markdown",
   "id": "563a2d7d",
   "metadata": {},
   "source": [
    "python 에서 문자열은 list 로서의 속성을 갖고, \n",
    "list 함수에 의하여 list의 형태 (분해된 형태)로 제시된다."
   ]
  },
  {
   "cell_type": "code",
   "execution_count": 10,
   "id": "6961bcd8",
   "metadata": {
    "scrolled": true
   },
   "outputs": [
    {
     "data": {
      "text/plain": [
       "['a', 'b', 'c', '1', '#', 'x', 'y', '2']"
      ]
     },
     "execution_count": 10,
     "metadata": {},
     "output_type": "execute_result"
    }
   ],
   "source": [
    "list('abc1#xy2') "
   ]
  },
  {
   "cell_type": "markdown",
   "id": "dadece07",
   "metadata": {},
   "source": [
    "#### \"+\" 의 의미"
   ]
  },
  {
   "cell_type": "code",
   "execution_count": 11,
   "id": "ce60376d",
   "metadata": {},
   "outputs": [
    {
     "data": {
      "text/plain": [
       "3"
      ]
     },
     "execution_count": 11,
     "metadata": {},
     "output_type": "execute_result"
    }
   ],
   "source": [
    "1+2"
   ]
  },
  {
   "cell_type": "markdown",
   "id": "5d1267c6",
   "metadata": {},
   "source": [
    "파이썬에서 리스트와 문자열에 대한 \"+\"은 연결을 의미한다 - **concatenate**"
   ]
  },
  {
   "cell_type": "code",
   "execution_count": 12,
   "id": "1d067ad7",
   "metadata": {},
   "outputs": [
    {
     "data": {
      "text/plain": [
       "[1, 3, 5, 1, 2, 3]"
      ]
     },
     "execution_count": 12,
     "metadata": {},
     "output_type": "execute_result"
    },
    {
     "data": {
      "text/plain": [
       "'abcdef'"
      ]
     },
     "execution_count": 12,
     "metadata": {},
     "output_type": "execute_result"
    }
   ],
   "source": [
    "[ 1, 3, 5] + [ 1, 2, 3 ]       \n",
    "'abc' + 'def'"
   ]
  },
  {
   "cell_type": "markdown",
   "id": "e02beac1",
   "metadata": {},
   "source": [
    "리스트 원소들 사이의 덧셈을 하려면, 함포(comprehension)를 이용한다"
   ]
  },
  {
   "cell_type": "code",
   "execution_count": 13,
   "id": "a62f439b",
   "metadata": {},
   "outputs": [
    {
     "data": {
      "text/plain": [
       "[3, 6, 9]"
      ]
     },
     "execution_count": 13,
     "metadata": {},
     "output_type": "execute_result"
    }
   ],
   "source": [
    "[  a+b   for  a, b  in  zip( [1, 2, 3], [ 2, 4, 6] ) ] "
   ]
  },
  {
   "cell_type": "markdown",
   "id": "9baacf38",
   "metadata": {},
   "source": [
    "파이썬은 이와 같이 문자와 리스트 처리를 중심으로 설계되어\n",
    "숫자처리에는 불편한 점이 많았다.\n",
    "\n",
    "파이썬의 숫자처리 능력을 보강하기 위하여 만들어진 것이 numpy 다.\n",
    "numpy 를 이용하면 다음과 같이 원소들 사이의 덧셈이 가능하다."
   ]
  },
  {
   "cell_type": "code",
   "execution_count": 14,
   "id": "1210ca9d",
   "metadata": {},
   "outputs": [
    {
     "data": {
      "text/plain": [
       "array([2, 5, 8])"
      ]
     },
     "execution_count": 14,
     "metadata": {},
     "output_type": "execute_result"
    }
   ],
   "source": [
    "import numpy as np\n",
    "\n",
    "np.array([1,3,5]) + np.array([1,2,3])"
   ]
  },
  {
   "cell_type": "markdown",
   "id": "e33f15b3",
   "metadata": {},
   "source": [
    "#### loop and if-else "
   ]
  },
  {
   "cell_type": "markdown",
   "id": "c7b7075e",
   "metadata": {},
   "source": [
    "for 와 while 을 이용하는 단순한 반복문 사용 예제를 만들어 보자"
   ]
  },
  {
   "cell_type": "code",
   "execution_count": 15,
   "id": "7331db2d",
   "metadata": {},
   "outputs": [
    {
     "data": {
      "text/plain": [
       "259"
      ]
     },
     "execution_count": 15,
     "metadata": {},
     "output_type": "execute_result"
    },
    {
     "data": {
      "text/plain": [
       "[1, 2, 4, 5, 7, 8, 10]"
      ]
     },
     "execution_count": 15,
     "metadata": {},
     "output_type": "execute_result"
    }
   ],
   "source": [
    "x = np.arange(1,10+1)\n",
    "\n",
    "s = 0\n",
    "sv = []\n",
    "\n",
    "for  a in x :\n",
    "    if a % 3 == 0 : \n",
    "        continue\n",
    "    else :\n",
    "        s = s + a**2\n",
    "        sv = sv+[a]\n",
    "\n",
    "s\n",
    "sv"
   ]
  },
  {
   "cell_type": "code",
   "execution_count": 16,
   "id": "089ccded",
   "metadata": {},
   "outputs": [
    {
     "data": {
      "text/plain": [
       "259"
      ]
     },
     "execution_count": 16,
     "metadata": {},
     "output_type": "execute_result"
    },
    {
     "data": {
      "text/plain": [
       "[1, 2, 4, 5, 7, 8, 10]"
      ]
     },
     "execution_count": 16,
     "metadata": {},
     "output_type": "execute_result"
    }
   ],
   "source": [
    "s  = 0\n",
    "sv = []\n",
    "\n",
    "a = 0\n",
    "while  a < 10:\n",
    "    a = a+1\n",
    "    if a % 3 == 0:\n",
    "        continue\n",
    "    else : \n",
    "        s = s + a**2\n",
    "        sv = sv+[a]\n",
    "\n",
    "s\n",
    "sv"
   ]
  },
  {
   "cell_type": "markdown",
   "id": "a8a7caa6",
   "metadata": {},
   "source": [
    "#####  대안적 방법"
   ]
  },
  {
   "cell_type": "markdown",
   "id": "0259e06a",
   "metadata": {},
   "source": [
    "위에서 복잡하게 for 와 while 을 이용하여 복잡하게 작성된 코드는\n",
    "\n",
    "다음과 같이 동일한 작업을 하는 간단한 코드로 쉽게 구현될 수 있다."
   ]
  },
  {
   "cell_type": "code",
   "execution_count": 17,
   "id": "5cff8ec0",
   "metadata": {},
   "outputs": [
    {
     "data": {
      "text/plain": [
       "[1, 2, 4, 5, 7, 8, 10]"
      ]
     },
     "execution_count": 17,
     "metadata": {},
     "output_type": "execute_result"
    },
    {
     "data": {
      "text/plain": [
       "259"
      ]
     },
     "execution_count": 17,
     "metadata": {},
     "output_type": "execute_result"
    }
   ],
   "source": [
    "x = range(1,10+1)\n",
    "z = [ a%3 for a in x]\n",
    "\n",
    "xz = [ a for a,b in zip(x,z ) if b>0 ]\n",
    "xz\n",
    "\n",
    "sum( [a**2 for a in xz ] )"
   ]
  },
  {
   "cell_type": "markdown",
   "id": "bc026e2c",
   "metadata": {},
   "source": [
    "numpy 를 이용하면 더욱 간단한 코드로 구현할 수 있다"
   ]
  },
  {
   "cell_type": "code",
   "execution_count": 18,
   "id": "a94036b4",
   "metadata": {},
   "outputs": [
    {
     "data": {
      "text/plain": [
       "array([ 1,  2,  4,  5,  7,  8, 10])"
      ]
     },
     "execution_count": 18,
     "metadata": {},
     "output_type": "execute_result"
    },
    {
     "data": {
      "text/plain": [
       "259"
      ]
     },
     "execution_count": 18,
     "metadata": {},
     "output_type": "execute_result"
    }
   ],
   "source": [
    "x = np.arange(1,10+1)\n",
    "xz = x[ x%3 > 0]\n",
    "xz\n",
    "np.sum( xz*xz)"
   ]
  },
  {
   "cell_type": "code",
   "execution_count": 19,
   "id": "40139687",
   "metadata": {},
   "outputs": [],
   "source": [
    "x = [ -2, -1, 0, 1]\n",
    "y = [ 1, 2, 3, 4]"
   ]
  },
  {
   "cell_type": "code",
   "execution_count": 20,
   "id": "f5b84f98",
   "metadata": {},
   "outputs": [
    {
     "data": {
      "text/plain": [
       "[0, 0, 3, 4]"
      ]
     },
     "execution_count": 20,
     "metadata": {},
     "output_type": "execute_result"
    }
   ],
   "source": [
    "[ 0 if a<0 else b for a,b in zip(x,y) ]     "
   ]
  },
  {
   "cell_type": "code",
   "execution_count": 21,
   "id": "fbd387f7",
   "metadata": {},
   "outputs": [
    {
     "data": {
      "text/plain": [
       "array([0, 0, 3, 4])"
      ]
     },
     "execution_count": 21,
     "metadata": {},
     "output_type": "execute_result"
    }
   ],
   "source": [
    "x = np.array(x)\n",
    "y = np.array(y)\n",
    "\n",
    "np.where( x < 0,  0,  y )        "
   ]
  },
  {
   "cell_type": "markdown",
   "id": "35d83b63",
   "metadata": {},
   "source": [
    "#### 함수의 정의와 호출"
   ]
  },
  {
   "cell_type": "markdown",
   "id": "6bb65df6",
   "metadata": {},
   "source": [
    "파이썬에서 함수를 정의하고 호출하는 간단한 예를 살펴보자"
   ]
  },
  {
   "cell_type": "code",
   "execution_count": 22,
   "id": "434ff8bd",
   "metadata": {},
   "outputs": [],
   "source": [
    "def fn(x) :\n",
    "     x = np.array(x)\n",
    "     x = x[ x>0 ]\n",
    "     return len(x)"
   ]
  },
  {
   "cell_type": "code",
   "execution_count": 23,
   "id": "54ef00d5",
   "metadata": {},
   "outputs": [
    {
     "data": {
      "text/plain": [
       "2"
      ]
     },
     "execution_count": 23,
     "metadata": {},
     "output_type": "execute_result"
    }
   ],
   "source": [
    "fn( [-1, 0, 1, 2] ) "
   ]
  },
  {
   "cell_type": "code",
   "execution_count": null,
   "id": "d1f752cd",
   "metadata": {},
   "outputs": [],
   "source": []
  },
  {
   "cell_type": "code",
   "execution_count": null,
   "id": "2ee1d05f",
   "metadata": {},
   "outputs": [],
   "source": []
  }
 ],
 "metadata": {
  "kernelspec": {
   "display_name": "Python 3 (ipykernel)",
   "language": "python",
   "name": "python3"
  },
  "language_info": {
   "codemirror_mode": {
    "name": "ipython",
    "version": 3
   },
   "file_extension": ".py",
   "mimetype": "text/x-python",
   "name": "python",
   "nbconvert_exporter": "python",
   "pygments_lexer": "ipython3",
   "version": "3.10.13"
  }
 },
 "nbformat": 4,
 "nbformat_minor": 5
}
